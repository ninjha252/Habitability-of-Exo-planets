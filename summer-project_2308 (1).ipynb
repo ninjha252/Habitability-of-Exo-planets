{
 "cells": [
  {
   "cell_type": "markdown",
   "id": "c8f726c7",
   "metadata": {},
   "source": [
    "# Habitability of Planets: Traditional Model and Machine Learning"
   ]
  },
  {
   "cell_type": "markdown",
   "id": "f10c63f6",
   "metadata": {},
   "source": [
    "### Abstract\n",
    "\n",
    "This paper studies about the habitability of planets using the traditional model and Machine learning. The traditional model refers to the simple model we have set up to see if a planet lies in a habitable zone. The machine learning model is more robust and takes into account more parameters and sees their correlation to predict the habitability of the planets. The confusion matrix for each model tells about how the actual and predicted values align and differ from one another."
   ]
  },
  {
   "cell_type": "code",
   "execution_count": 1,
   "id": "a1bb695c",
   "metadata": {},
   "outputs": [],
   "source": [
    "# import the libraries to use in the models\n",
    "import numpy as np\n",
    "import matplotlib.pyplot as plt\n",
    "import pandas as pd\n",
    "import seaborn as sns\n",
    "from sklearn.linear_model import LogisticRegression\n",
    "from sklearn.model_selection import train_test_split, GridSearchCV, cross_val_score\n",
    "from sklearn.metrics import mean_squared_error, precision_score, confusion_matrix, accuracy_score\n",
    "from sklearn.preprocessing import StandardScaler"
   ]
  },
  {
   "cell_type": "code",
   "execution_count": 2,
   "id": "d372296e",
   "metadata": {},
   "outputs": [],
   "source": [
    "# visualization function for the confusion matrix\n",
    "def conf_matrix(x):\n",
    "    plt.figure(dpi=100)\n",
    "    sns.heatmap(x, cmap=plt.cm.Reds, annot=True, square=True,fmt='d',\n",
    "               xticklabels=['not habitable', 'habitable'],\n",
    "               yticklabels=['not habitable', 'habitable'])\n",
    "\n",
    "    plt.xlabel('Predicted class')\n",
    "    plt.ylabel('Actual class')"
   ]
  },
  {
   "cell_type": "code",
   "execution_count": 3,
   "id": "7aef82fd",
   "metadata": {},
   "outputs": [
    {
     "data": {
      "text/html": [
       "<div>\n",
       "<style scoped>\n",
       "    .dataframe tbody tr th:only-of-type {\n",
       "        vertical-align: middle;\n",
       "    }\n",
       "\n",
       "    .dataframe tbody tr th {\n",
       "        vertical-align: top;\n",
       "    }\n",
       "\n",
       "    .dataframe thead th {\n",
       "        text-align: right;\n",
       "    }\n",
       "</style>\n",
       "<table border=\"1\" class=\"dataframe\">\n",
       "  <thead>\n",
       "    <tr style=\"text-align: right;\">\n",
       "      <th></th>\n",
       "      <th>P_NAME</th>\n",
       "      <th>P_MASS</th>\n",
       "      <th>P_PERIOD</th>\n",
       "      <th>P_SEMI_MAJOR_AXIS</th>\n",
       "      <th>S_DISTANCE</th>\n",
       "      <th>S_MASS</th>\n",
       "      <th>S_RADIUS</th>\n",
       "      <th>S_TEMPERATURE</th>\n",
       "      <th>P_DISTANCE</th>\n",
       "      <th>P_FLUX</th>\n",
       "      <th>P_TEMP_EQUIL</th>\n",
       "      <th>S_LUMINOSITY</th>\n",
       "      <th>P_HABZONE_OPT</th>\n",
       "      <th>P_HABZONE_CON</th>\n",
       "      <th>P_HABITABLE</th>\n",
       "      <th>P_ESI</th>\n",
       "    </tr>\n",
       "  </thead>\n",
       "  <tbody>\n",
       "    <tr>\n",
       "      <th>0</th>\n",
       "      <td>11 Com b</td>\n",
       "      <td>6165.86330</td>\n",
       "      <td>326.030000</td>\n",
       "      <td>1.29000</td>\n",
       "      <td>93.37</td>\n",
       "      <td>2.70</td>\n",
       "      <td>19.000000</td>\n",
       "      <td>4742.0</td>\n",
       "      <td>1.324418</td>\n",
       "      <td>101.011410</td>\n",
       "      <td>799.44963</td>\n",
       "      <td>163.546800</td>\n",
       "      <td>0</td>\n",
       "      <td>0</td>\n",
       "      <td>0</td>\n",
       "      <td>0.083813</td>\n",
       "    </tr>\n",
       "    <tr>\n",
       "      <th>1</th>\n",
       "      <td>11 UMi b</td>\n",
       "      <td>4684.78480</td>\n",
       "      <td>516.219970</td>\n",
       "      <td>1.53000</td>\n",
       "      <td>125.72</td>\n",
       "      <td>2.78</td>\n",
       "      <td>29.790000</td>\n",
       "      <td>4213.0</td>\n",
       "      <td>1.534896</td>\n",
       "      <td>107.351180</td>\n",
       "      <td>819.07569</td>\n",
       "      <td>250.492940</td>\n",
       "      <td>0</td>\n",
       "      <td>0</td>\n",
       "      <td>0</td>\n",
       "      <td>0.082414</td>\n",
       "    </tr>\n",
       "    <tr>\n",
       "      <th>2</th>\n",
       "      <td>14 And b</td>\n",
       "      <td>1525.57440</td>\n",
       "      <td>185.840000</td>\n",
       "      <td>0.83000</td>\n",
       "      <td>75.59</td>\n",
       "      <td>2.20</td>\n",
       "      <td>11.000000</td>\n",
       "      <td>4813.0</td>\n",
       "      <td>0.830000</td>\n",
       "      <td>84.446427</td>\n",
       "      <td>772.30746</td>\n",
       "      <td>58.175144</td>\n",
       "      <td>0</td>\n",
       "      <td>0</td>\n",
       "      <td>0</td>\n",
       "      <td>0.081917</td>\n",
       "    </tr>\n",
       "    <tr>\n",
       "      <th>3</th>\n",
       "      <td>14 Her b</td>\n",
       "      <td>1481.07850</td>\n",
       "      <td>1773.400000</td>\n",
       "      <td>2.93000</td>\n",
       "      <td>17.94</td>\n",
       "      <td>0.90</td>\n",
       "      <td>0.930000</td>\n",
       "      <td>5338.0</td>\n",
       "      <td>3.130558</td>\n",
       "      <td>0.078887</td>\n",
       "      <td>131.38424</td>\n",
       "      <td>0.629171</td>\n",
       "      <td>0</td>\n",
       "      <td>0</td>\n",
       "      <td>0</td>\n",
       "      <td>0.145241</td>\n",
       "    </tr>\n",
       "    <tr>\n",
       "      <th>4</th>\n",
       "      <td>16 Cyg B b</td>\n",
       "      <td>565.73385</td>\n",
       "      <td>798.500000</td>\n",
       "      <td>1.66000</td>\n",
       "      <td>21.15</td>\n",
       "      <td>1.08</td>\n",
       "      <td>1.130000</td>\n",
       "      <td>5750.0</td>\n",
       "      <td>2.043792</td>\n",
       "      <td>0.618972</td>\n",
       "      <td>202.22783</td>\n",
       "      <td>1.250596</td>\n",
       "      <td>1</td>\n",
       "      <td>1</td>\n",
       "      <td>0</td>\n",
       "      <td>0.368627</td>\n",
       "    </tr>\n",
       "    <tr>\n",
       "      <th>...</th>\n",
       "      <td>...</td>\n",
       "      <td>...</td>\n",
       "      <td>...</td>\n",
       "      <td>...</td>\n",
       "      <td>...</td>\n",
       "      <td>...</td>\n",
       "      <td>...</td>\n",
       "      <td>...</td>\n",
       "      <td>...</td>\n",
       "      <td>...</td>\n",
       "      <td>...</td>\n",
       "      <td>...</td>\n",
       "      <td>...</td>\n",
       "      <td>...</td>\n",
       "      <td>...</td>\n",
       "      <td>...</td>\n",
       "    </tr>\n",
       "    <tr>\n",
       "      <th>4043</th>\n",
       "      <td>K2-296 b</td>\n",
       "      <td>NaN</td>\n",
       "      <td>28.165600</td>\n",
       "      <td>0.13456</td>\n",
       "      <td>160.00</td>\n",
       "      <td>0.41</td>\n",
       "      <td>0.374241</td>\n",
       "      <td>3772.0</td>\n",
       "      <td>0.134560</td>\n",
       "      <td>1.402963</td>\n",
       "      <td>277.27227</td>\n",
       "      <td>0.025403</td>\n",
       "      <td>1</td>\n",
       "      <td>0</td>\n",
       "      <td>2</td>\n",
       "      <td>0.755038</td>\n",
       "    </tr>\n",
       "    <tr>\n",
       "      <th>4044</th>\n",
       "      <td>K2-296 c</td>\n",
       "      <td>NaN</td>\n",
       "      <td>7.906961</td>\n",
       "      <td>0.05769</td>\n",
       "      <td>160.00</td>\n",
       "      <td>0.41</td>\n",
       "      <td>0.374241</td>\n",
       "      <td>3772.0</td>\n",
       "      <td>0.057690</td>\n",
       "      <td>7.632679</td>\n",
       "      <td>423.46173</td>\n",
       "      <td>0.025403</td>\n",
       "      <td>0</td>\n",
       "      <td>0</td>\n",
       "      <td>0</td>\n",
       "      <td>0.363831</td>\n",
       "    </tr>\n",
       "    <tr>\n",
       "      <th>4045</th>\n",
       "      <td>GJ 1061 b</td>\n",
       "      <td>1.38000</td>\n",
       "      <td>3.204000</td>\n",
       "      <td>0.02100</td>\n",
       "      <td>3.69</td>\n",
       "      <td>0.12</td>\n",
       "      <td>0.156000</td>\n",
       "      <td>2953.0</td>\n",
       "      <td>0.021000</td>\n",
       "      <td>3.759699</td>\n",
       "      <td>354.75879</td>\n",
       "      <td>0.001658</td>\n",
       "      <td>0</td>\n",
       "      <td>0</td>\n",
       "      <td>0</td>\n",
       "      <td>0.588562</td>\n",
       "    </tr>\n",
       "    <tr>\n",
       "      <th>4046</th>\n",
       "      <td>GJ 1061 c</td>\n",
       "      <td>1.75000</td>\n",
       "      <td>6.689000</td>\n",
       "      <td>0.03500</td>\n",
       "      <td>3.69</td>\n",
       "      <td>0.12</td>\n",
       "      <td>0.156000</td>\n",
       "      <td>2953.0</td>\n",
       "      <td>0.035000</td>\n",
       "      <td>1.353492</td>\n",
       "      <td>274.79498</td>\n",
       "      <td>0.001658</td>\n",
       "      <td>1</td>\n",
       "      <td>0</td>\n",
       "      <td>1</td>\n",
       "      <td>0.879042</td>\n",
       "    </tr>\n",
       "    <tr>\n",
       "      <th>4047</th>\n",
       "      <td>GJ 1061 d</td>\n",
       "      <td>1.68000</td>\n",
       "      <td>13.031000</td>\n",
       "      <td>0.05400</td>\n",
       "      <td>3.69</td>\n",
       "      <td>0.12</td>\n",
       "      <td>0.156000</td>\n",
       "      <td>2953.0</td>\n",
       "      <td>0.054000</td>\n",
       "      <td>0.568596</td>\n",
       "      <td>221.23098</td>\n",
       "      <td>0.001658</td>\n",
       "      <td>1</td>\n",
       "      <td>1</td>\n",
       "      <td>1</td>\n",
       "      <td>0.798200</td>\n",
       "    </tr>\n",
       "  </tbody>\n",
       "</table>\n",
       "<p>4048 rows × 16 columns</p>\n",
       "</div>"
      ],
      "text/plain": [
       "          P_NAME      P_MASS     P_PERIOD  P_SEMI_MAJOR_AXIS  S_DISTANCE  \\\n",
       "0       11 Com b  6165.86330   326.030000            1.29000       93.37   \n",
       "1       11 UMi b  4684.78480   516.219970            1.53000      125.72   \n",
       "2       14 And b  1525.57440   185.840000            0.83000       75.59   \n",
       "3       14 Her b  1481.07850  1773.400000            2.93000       17.94   \n",
       "4     16 Cyg B b   565.73385   798.500000            1.66000       21.15   \n",
       "...          ...         ...          ...                ...         ...   \n",
       "4043    K2-296 b         NaN    28.165600            0.13456      160.00   \n",
       "4044    K2-296 c         NaN     7.906961            0.05769      160.00   \n",
       "4045   GJ 1061 b     1.38000     3.204000            0.02100        3.69   \n",
       "4046   GJ 1061 c     1.75000     6.689000            0.03500        3.69   \n",
       "4047   GJ 1061 d     1.68000    13.031000            0.05400        3.69   \n",
       "\n",
       "      S_MASS   S_RADIUS  S_TEMPERATURE  P_DISTANCE      P_FLUX  P_TEMP_EQUIL  \\\n",
       "0       2.70  19.000000         4742.0    1.324418  101.011410     799.44963   \n",
       "1       2.78  29.790000         4213.0    1.534896  107.351180     819.07569   \n",
       "2       2.20  11.000000         4813.0    0.830000   84.446427     772.30746   \n",
       "3       0.90   0.930000         5338.0    3.130558    0.078887     131.38424   \n",
       "4       1.08   1.130000         5750.0    2.043792    0.618972     202.22783   \n",
       "...      ...        ...            ...         ...         ...           ...   \n",
       "4043    0.41   0.374241         3772.0    0.134560    1.402963     277.27227   \n",
       "4044    0.41   0.374241         3772.0    0.057690    7.632679     423.46173   \n",
       "4045    0.12   0.156000         2953.0    0.021000    3.759699     354.75879   \n",
       "4046    0.12   0.156000         2953.0    0.035000    1.353492     274.79498   \n",
       "4047    0.12   0.156000         2953.0    0.054000    0.568596     221.23098   \n",
       "\n",
       "      S_LUMINOSITY  P_HABZONE_OPT  P_HABZONE_CON  P_HABITABLE     P_ESI  \n",
       "0       163.546800              0              0            0  0.083813  \n",
       "1       250.492940              0              0            0  0.082414  \n",
       "2        58.175144              0              0            0  0.081917  \n",
       "3         0.629171              0              0            0  0.145241  \n",
       "4         1.250596              1              1            0  0.368627  \n",
       "...            ...            ...            ...          ...       ...  \n",
       "4043      0.025403              1              0            2  0.755038  \n",
       "4044      0.025403              0              0            0  0.363831  \n",
       "4045      0.001658              0              0            0  0.588562  \n",
       "4046      0.001658              1              0            1  0.879042  \n",
       "4047      0.001658              1              1            1  0.798200  \n",
       "\n",
       "[4048 rows x 16 columns]"
      ]
     },
     "metadata": {},
     "output_type": "display_data"
    }
   ],
   "source": [
    "# read and show the data\n",
    "data = pd.read_csv('./final_data_1908.csv')\n",
    "display(data)"
   ]
  },
  {
   "cell_type": "code",
   "execution_count": 4,
   "id": "8a73b141",
   "metadata": {},
   "outputs": [
    {
     "data": {
      "text/plain": [
       "P_NAME                object\n",
       "P_MASS               float64\n",
       "P_PERIOD             float64\n",
       "P_SEMI_MAJOR_AXIS    float64\n",
       "S_DISTANCE           float64\n",
       "S_MASS               float64\n",
       "S_RADIUS             float64\n",
       "S_TEMPERATURE        float64\n",
       "P_DISTANCE           float64\n",
       "P_FLUX               float64\n",
       "P_TEMP_EQUIL         float64\n",
       "S_LUMINOSITY         float64\n",
       "P_HABZONE_OPT          int64\n",
       "P_HABZONE_CON          int64\n",
       "P_HABITABLE            int64\n",
       "P_ESI                float64\n",
       "dtype: object"
      ]
     },
     "metadata": {},
     "output_type": "display_data"
    }
   ],
   "source": [
    "# see the data types\n",
    "display(data.dtypes)"
   ]
  },
  {
   "cell_type": "code",
   "execution_count": 5,
   "id": "3b64c8ec",
   "metadata": {},
   "outputs": [
    {
     "data": {
      "text/plain": [
       "P_NAME               False\n",
       "P_MASS                True\n",
       "P_PERIOD              True\n",
       "P_SEMI_MAJOR_AXIS     True\n",
       "S_DISTANCE            True\n",
       "S_MASS                True\n",
       "S_RADIUS              True\n",
       "S_TEMPERATURE         True\n",
       "P_DISTANCE            True\n",
       "P_FLUX                True\n",
       "P_TEMP_EQUIL          True\n",
       "S_LUMINOSITY          True\n",
       "P_HABZONE_OPT        False\n",
       "P_HABZONE_CON        False\n",
       "P_HABITABLE          False\n",
       "P_ESI                 True\n",
       "dtype: bool"
      ]
     },
     "metadata": {},
     "output_type": "display_data"
    }
   ],
   "source": [
    "# check if there are any null values\n",
    "display(data.isna().any())"
   ]
  },
  {
   "cell_type": "code",
   "execution_count": 6,
   "id": "d6be90a7",
   "metadata": {},
   "outputs": [],
   "source": [
    "# drop the columns not used in the model\n",
    "data.drop(columns=['P_NAME', 'P_HABITABLE', 'P_HABZONE_CON'], inplace=True)\n",
    "# remove the missing values\n",
    "data.dropna(inplace=True)"
   ]
  },
  {
   "cell_type": "code",
   "execution_count": 7,
   "id": "7ec432b4",
   "metadata": {},
   "outputs": [
    {
     "name": "stdout",
     "output_type": "stream",
     "text": [
      "(1001, 13)\n"
     ]
    },
    {
     "data": {
      "text/html": [
       "<div>\n",
       "<style scoped>\n",
       "    .dataframe tbody tr th:only-of-type {\n",
       "        vertical-align: middle;\n",
       "    }\n",
       "\n",
       "    .dataframe tbody tr th {\n",
       "        vertical-align: top;\n",
       "    }\n",
       "\n",
       "    .dataframe thead th {\n",
       "        text-align: right;\n",
       "    }\n",
       "</style>\n",
       "<table border=\"1\" class=\"dataframe\">\n",
       "  <thead>\n",
       "    <tr style=\"text-align: right;\">\n",
       "      <th></th>\n",
       "      <th>P_MASS</th>\n",
       "      <th>P_PERIOD</th>\n",
       "      <th>P_SEMI_MAJOR_AXIS</th>\n",
       "      <th>S_DISTANCE</th>\n",
       "      <th>S_MASS</th>\n",
       "      <th>S_RADIUS</th>\n",
       "      <th>S_TEMPERATURE</th>\n",
       "      <th>P_DISTANCE</th>\n",
       "      <th>P_FLUX</th>\n",
       "      <th>P_TEMP_EQUIL</th>\n",
       "      <th>S_LUMINOSITY</th>\n",
       "      <th>P_HABZONE_OPT</th>\n",
       "      <th>P_ESI</th>\n",
       "    </tr>\n",
       "  </thead>\n",
       "  <tbody>\n",
       "    <tr>\n",
       "      <th>0</th>\n",
       "      <td>6165.863300</td>\n",
       "      <td>326.03000</td>\n",
       "      <td>1.290</td>\n",
       "      <td>93.37</td>\n",
       "      <td>2.70</td>\n",
       "      <td>19.000</td>\n",
       "      <td>4742.0</td>\n",
       "      <td>1.324418</td>\n",
       "      <td>101.011410</td>\n",
       "      <td>799.44963</td>\n",
       "      <td>163.546800</td>\n",
       "      <td>0</td>\n",
       "      <td>0.083813</td>\n",
       "    </tr>\n",
       "    <tr>\n",
       "      <th>1</th>\n",
       "      <td>4684.784800</td>\n",
       "      <td>516.21997</td>\n",
       "      <td>1.530</td>\n",
       "      <td>125.72</td>\n",
       "      <td>2.78</td>\n",
       "      <td>29.790</td>\n",
       "      <td>4213.0</td>\n",
       "      <td>1.534896</td>\n",
       "      <td>107.351180</td>\n",
       "      <td>819.07569</td>\n",
       "      <td>250.492940</td>\n",
       "      <td>0</td>\n",
       "      <td>0.082414</td>\n",
       "    </tr>\n",
       "    <tr>\n",
       "      <th>2</th>\n",
       "      <td>1525.574400</td>\n",
       "      <td>185.84000</td>\n",
       "      <td>0.830</td>\n",
       "      <td>75.59</td>\n",
       "      <td>2.20</td>\n",
       "      <td>11.000</td>\n",
       "      <td>4813.0</td>\n",
       "      <td>0.830000</td>\n",
       "      <td>84.446427</td>\n",
       "      <td>772.30746</td>\n",
       "      <td>58.175144</td>\n",
       "      <td>0</td>\n",
       "      <td>0.081917</td>\n",
       "    </tr>\n",
       "    <tr>\n",
       "      <th>3</th>\n",
       "      <td>1481.078500</td>\n",
       "      <td>1773.40000</td>\n",
       "      <td>2.930</td>\n",
       "      <td>17.94</td>\n",
       "      <td>0.90</td>\n",
       "      <td>0.930</td>\n",
       "      <td>5338.0</td>\n",
       "      <td>3.130558</td>\n",
       "      <td>0.078887</td>\n",
       "      <td>131.38424</td>\n",
       "      <td>0.629171</td>\n",
       "      <td>0</td>\n",
       "      <td>0.145241</td>\n",
       "    </tr>\n",
       "    <tr>\n",
       "      <th>4</th>\n",
       "      <td>565.733850</td>\n",
       "      <td>798.50000</td>\n",
       "      <td>1.660</td>\n",
       "      <td>21.15</td>\n",
       "      <td>1.08</td>\n",
       "      <td>1.130</td>\n",
       "      <td>5750.0</td>\n",
       "      <td>2.043792</td>\n",
       "      <td>0.618972</td>\n",
       "      <td>202.22783</td>\n",
       "      <td>1.250596</td>\n",
       "      <td>1</td>\n",
       "      <td>0.368627</td>\n",
       "    </tr>\n",
       "    <tr>\n",
       "      <th>...</th>\n",
       "      <td>...</td>\n",
       "      <td>...</td>\n",
       "      <td>...</td>\n",
       "      <td>...</td>\n",
       "      <td>...</td>\n",
       "      <td>...</td>\n",
       "      <td>...</td>\n",
       "      <td>...</td>\n",
       "      <td>...</td>\n",
       "      <td>...</td>\n",
       "      <td>...</td>\n",
       "      <td>...</td>\n",
       "      <td>...</td>\n",
       "    </tr>\n",
       "    <tr>\n",
       "      <th>4038</th>\n",
       "      <td>1.830689</td>\n",
       "      <td>49.41000</td>\n",
       "      <td>0.243</td>\n",
       "      <td>3.60</td>\n",
       "      <td>0.78</td>\n",
       "      <td>0.793</td>\n",
       "      <td>5344.0</td>\n",
       "      <td>0.249427</td>\n",
       "      <td>7.996323</td>\n",
       "      <td>424.09232</td>\n",
       "      <td>0.459516</td>\n",
       "      <td>0</td>\n",
       "      <td>0.446574</td>\n",
       "    </tr>\n",
       "    <tr>\n",
       "      <th>4039</th>\n",
       "      <td>6547.256900</td>\n",
       "      <td>305.50000</td>\n",
       "      <td>1.170</td>\n",
       "      <td>112.64</td>\n",
       "      <td>2.30</td>\n",
       "      <td>26.800</td>\n",
       "      <td>4388.0</td>\n",
       "      <td>1.170562</td>\n",
       "      <td>174.365980</td>\n",
       "      <td>925.61857</td>\n",
       "      <td>238.574880</td>\n",
       "      <td>0</td>\n",
       "      <td>0.079589</td>\n",
       "    </tr>\n",
       "    <tr>\n",
       "      <th>4045</th>\n",
       "      <td>1.380000</td>\n",
       "      <td>3.20400</td>\n",
       "      <td>0.021</td>\n",
       "      <td>3.69</td>\n",
       "      <td>0.12</td>\n",
       "      <td>0.156</td>\n",
       "      <td>2953.0</td>\n",
       "      <td>0.021000</td>\n",
       "      <td>3.759699</td>\n",
       "      <td>354.75879</td>\n",
       "      <td>0.001658</td>\n",
       "      <td>0</td>\n",
       "      <td>0.588562</td>\n",
       "    </tr>\n",
       "    <tr>\n",
       "      <th>4046</th>\n",
       "      <td>1.750000</td>\n",
       "      <td>6.68900</td>\n",
       "      <td>0.035</td>\n",
       "      <td>3.69</td>\n",
       "      <td>0.12</td>\n",
       "      <td>0.156</td>\n",
       "      <td>2953.0</td>\n",
       "      <td>0.035000</td>\n",
       "      <td>1.353492</td>\n",
       "      <td>274.79498</td>\n",
       "      <td>0.001658</td>\n",
       "      <td>1</td>\n",
       "      <td>0.879042</td>\n",
       "    </tr>\n",
       "    <tr>\n",
       "      <th>4047</th>\n",
       "      <td>1.680000</td>\n",
       "      <td>13.03100</td>\n",
       "      <td>0.054</td>\n",
       "      <td>3.69</td>\n",
       "      <td>0.12</td>\n",
       "      <td>0.156</td>\n",
       "      <td>2953.0</td>\n",
       "      <td>0.054000</td>\n",
       "      <td>0.568596</td>\n",
       "      <td>221.23098</td>\n",
       "      <td>0.001658</td>\n",
       "      <td>1</td>\n",
       "      <td>0.798200</td>\n",
       "    </tr>\n",
       "  </tbody>\n",
       "</table>\n",
       "<p>1001 rows × 13 columns</p>\n",
       "</div>"
      ],
      "text/plain": [
       "           P_MASS    P_PERIOD  P_SEMI_MAJOR_AXIS  S_DISTANCE  S_MASS  \\\n",
       "0     6165.863300   326.03000              1.290       93.37    2.70   \n",
       "1     4684.784800   516.21997              1.530      125.72    2.78   \n",
       "2     1525.574400   185.84000              0.830       75.59    2.20   \n",
       "3     1481.078500  1773.40000              2.930       17.94    0.90   \n",
       "4      565.733850   798.50000              1.660       21.15    1.08   \n",
       "...           ...         ...                ...         ...     ...   \n",
       "4038     1.830689    49.41000              0.243        3.60    0.78   \n",
       "4039  6547.256900   305.50000              1.170      112.64    2.30   \n",
       "4045     1.380000     3.20400              0.021        3.69    0.12   \n",
       "4046     1.750000     6.68900              0.035        3.69    0.12   \n",
       "4047     1.680000    13.03100              0.054        3.69    0.12   \n",
       "\n",
       "      S_RADIUS  S_TEMPERATURE  P_DISTANCE      P_FLUX  P_TEMP_EQUIL  \\\n",
       "0       19.000         4742.0    1.324418  101.011410     799.44963   \n",
       "1       29.790         4213.0    1.534896  107.351180     819.07569   \n",
       "2       11.000         4813.0    0.830000   84.446427     772.30746   \n",
       "3        0.930         5338.0    3.130558    0.078887     131.38424   \n",
       "4        1.130         5750.0    2.043792    0.618972     202.22783   \n",
       "...        ...            ...         ...         ...           ...   \n",
       "4038     0.793         5344.0    0.249427    7.996323     424.09232   \n",
       "4039    26.800         4388.0    1.170562  174.365980     925.61857   \n",
       "4045     0.156         2953.0    0.021000    3.759699     354.75879   \n",
       "4046     0.156         2953.0    0.035000    1.353492     274.79498   \n",
       "4047     0.156         2953.0    0.054000    0.568596     221.23098   \n",
       "\n",
       "      S_LUMINOSITY  P_HABZONE_OPT     P_ESI  \n",
       "0       163.546800              0  0.083813  \n",
       "1       250.492940              0  0.082414  \n",
       "2        58.175144              0  0.081917  \n",
       "3         0.629171              0  0.145241  \n",
       "4         1.250596              1  0.368627  \n",
       "...            ...            ...       ...  \n",
       "4038      0.459516              0  0.446574  \n",
       "4039    238.574880              0  0.079589  \n",
       "4045      0.001658              0  0.588562  \n",
       "4046      0.001658              1  0.879042  \n",
       "4047      0.001658              1  0.798200  \n",
       "\n",
       "[1001 rows x 13 columns]"
      ]
     },
     "metadata": {},
     "output_type": "display_data"
    }
   ],
   "source": [
    "# data shape and the filtered data\n",
    "print(data.shape)\n",
    "display(data)"
   ]
  },
  {
   "cell_type": "code",
   "execution_count": 8,
   "id": "0091f9e3",
   "metadata": {},
   "outputs": [],
   "source": [
    "# divide the data into features and target set\n",
    "features = data.drop(columns=['P_HABZONE_OPT'])\n",
    "target = data.P_HABZONE_OPT"
   ]
  },
  {
   "cell_type": "code",
   "execution_count": 9,
   "id": "94e6f9f1",
   "metadata": {},
   "outputs": [
    {
     "name": "stdout",
     "output_type": "stream",
     "text": [
      "[0 1]\n"
     ]
    }
   ],
   "source": [
    "# see the number of types in the target set\n",
    "print(target.unique())"
   ]
  },
  {
   "cell_type": "code",
   "execution_count": 10,
   "id": "61946faf",
   "metadata": {},
   "outputs": [
    {
     "data": {
      "text/plain": [
       "P_MASS               0\n",
       "P_PERIOD             0\n",
       "P_SEMI_MAJOR_AXIS    0\n",
       "S_DISTANCE           0\n",
       "S_MASS               0\n",
       "S_RADIUS             0\n",
       "S_TEMPERATURE        0\n",
       "P_DISTANCE           0\n",
       "P_FLUX               0\n",
       "P_TEMP_EQUIL         0\n",
       "S_LUMINOSITY         0\n",
       "P_HABZONE_OPT        0\n",
       "P_ESI                0\n",
       "dtype: int64"
      ]
     },
     "execution_count": 10,
     "metadata": {},
     "output_type": "execute_result"
    }
   ],
   "source": [
    "# see if there are any missing values in the data set.\n",
    "data.isnull().sum()"
   ]
  },
  {
   "cell_type": "code",
   "execution_count": 11,
   "id": "a93a49a3",
   "metadata": {},
   "outputs": [
    {
     "data": {
      "image/png": "[encoded data removed]",
      "text/plain": [
       "<Figure size 648x648 with 2 Axes>"
      ]
     },
     "metadata": {
      "needs_background": "light"
     },
     "output_type": "display_data"
    }
   ],
   "source": [
    "# visualize the correlation between the parameters\n",
    "fig, ax = plt.subplots(figsize=(9,9))  \n",
    "sns.heatmap(data.corr(), annot = True);"
   ]
  },
  {
   "cell_type": "code",
   "execution_count": 12,
   "id": "cb35d31e",
   "metadata": {},
   "outputs": [
    {
     "name": "stdout",
     "output_type": "stream",
     "text": [
      "X train (700, 12)\n",
      "y train (700,)\n",
      "X test (301, 12)\n",
      "y test (301,)\n"
     ]
    }
   ],
   "source": [
    "# divide the data into test and train set\n",
    "X_train, X_test, y_train, y_test = train_test_split(\n",
    "    features, target, test_size=0.3, random_state=1, stratify = target)\n",
    "# view the split data set\n",
    "print('X train', X_train.shape)\n",
    "print('y train', y_train.shape)\n",
    "print('X test', X_test.shape)\n",
    "print('y test', y_test.shape)"
   ]
  },
  {
   "cell_type": "code",
   "execution_count": 13,
   "id": "d15b35f5",
   "metadata": {},
   "outputs": [],
   "source": [
    "# standardize by removing the mean and scaling to unit variance\n",
    "scaler = StandardScaler()\n",
    "X_train = pd.DataFrame(scaler.fit_transform(X_train), columns=X_train.columns)\n",
    "X_test = pd.DataFrame(scaler.transform(X_test), columns=X_test.columns)"
   ]
  },
  {
   "cell_type": "code",
   "execution_count": 14,
   "id": "a6aaf8ca",
   "metadata": {},
   "outputs": [
    {
     "data": {
      "text/plain": [
       "0    0.89011\n",
       "1    0.10989\n",
       "Name: P_HABZONE_OPT, dtype: float64"
      ]
     },
     "execution_count": 14,
     "metadata": {},
     "output_type": "execute_result"
    }
   ],
   "source": [
    "# see the probability of occuring of the target values\n",
    "target.value_counts(normalize= True)"
   ]
  },
  {
   "cell_type": "code",
   "execution_count": 15,
   "id": "9659d9bc",
   "metadata": {},
   "outputs": [
    {
     "data": {
      "text/plain": [
       "0.946843853820598"
      ]
     },
     "execution_count": 15,
     "metadata": {},
     "output_type": "execute_result"
    }
   ],
   "source": [
    "# logitistic regression for class prediction\n",
    "# create the model instance\n",
    "model = LogisticRegression(C=100, max_iter=200, class_weight='balanced')\n",
    "# fit the model for training data\n",
    "model.fit(X_train, y_train)\n",
    "# the accuracy of the model\n",
    "model.score(X_test, y_test)"
   ]
  },
  {
   "cell_type": "code",
   "execution_count": 16,
   "id": "cf3e6967",
   "metadata": {},
   "outputs": [
    {
     "name": "stdout",
     "output_type": "stream",
     "text": [
      "0.93\n"
     ]
    }
   ],
   "source": [
    "# check the model's stength using cross validation score\n",
    "scores = cross_val_score(model, X_train, y_train, cv=10)\n",
    "print(np.mean(scores))"
   ]
  },
  {
   "cell_type": "code",
   "execution_count": 17,
   "id": "b828cb24",
   "metadata": {},
   "outputs": [
    {
     "data": {
      "text/html": [
       "<div>\n",
       "<style scoped>\n",
       "    .dataframe tbody tr th:only-of-type {\n",
       "        vertical-align: middle;\n",
       "    }\n",
       "\n",
       "    .dataframe tbody tr th {\n",
       "        vertical-align: top;\n",
       "    }\n",
       "\n",
       "    .dataframe thead th {\n",
       "        text-align: right;\n",
       "    }\n",
       "</style>\n",
       "<table border=\"1\" class=\"dataframe\">\n",
       "  <thead>\n",
       "    <tr style=\"text-align: right;\">\n",
       "      <th></th>\n",
       "      <th>P_MASS</th>\n",
       "      <th>P_PERIOD</th>\n",
       "      <th>P_SEMI_MAJOR_AXIS</th>\n",
       "      <th>S_DISTANCE</th>\n",
       "      <th>S_MASS</th>\n",
       "      <th>S_RADIUS</th>\n",
       "      <th>S_TEMPERATURE</th>\n",
       "      <th>P_DISTANCE</th>\n",
       "      <th>P_FLUX</th>\n",
       "      <th>P_TEMP_EQUIL</th>\n",
       "      <th>S_LUMINOSITY</th>\n",
       "      <th>P_ESI</th>\n",
       "    </tr>\n",
       "  </thead>\n",
       "  <tbody>\n",
       "    <tr>\n",
       "      <th>0</th>\n",
       "      <td>-0.182534</td>\n",
       "      <td>-5.7744</td>\n",
       "      <td>4.969414</td>\n",
       "      <td>-0.03913</td>\n",
       "      <td>2.220571</td>\n",
       "      <td>8.867282</td>\n",
       "      <td>1.816259</td>\n",
       "      <td>-4.399291</td>\n",
       "      <td>-0.056194</td>\n",
       "      <td>-30.173257</td>\n",
       "      <td>-11.64759</td>\n",
       "      <td>4.684679</td>\n",
       "    </tr>\n",
       "  </tbody>\n",
       "</table>\n",
       "</div>"
      ],
      "text/plain": [
       "     P_MASS  P_PERIOD  P_SEMI_MAJOR_AXIS  S_DISTANCE    S_MASS  S_RADIUS  \\\n",
       "0 -0.182534   -5.7744           4.969414    -0.03913  2.220571  8.867282   \n",
       "\n",
       "   S_TEMPERATURE  P_DISTANCE    P_FLUX  P_TEMP_EQUIL  S_LUMINOSITY     P_ESI  \n",
       "0       1.816259   -4.399291 -0.056194    -30.173257     -11.64759  4.684679  "
      ]
     },
     "metadata": {},
     "output_type": "display_data"
    }
   ],
   "source": [
    "# impact of data in deciding the class\n",
    "data_coef = pd.DataFrame(model.coef_, columns=X_train.columns)\n",
    "display(data_coef)"
   ]
  },
  {
   "cell_type": "code",
   "execution_count": 18,
   "id": "e82b80df",
   "metadata": {},
   "outputs": [
    {
     "data": {
      "text/plain": [
       "array([0, 0, 0, 0, 0, 0, 0, 0, 0, 0, 0, 0, 0, 0, 0, 0, 0, 0, 0, 0, 0, 0,\n",
       "       1, 0, 0, 0, 0, 0, 0, 0, 1, 0, 0, 0, 0, 0, 0, 1, 0, 0, 1, 0, 1, 0,\n",
       "       0, 0, 0, 0, 0, 0, 0, 1, 0, 0, 0, 0, 1, 0, 0, 0, 0, 0, 0, 0, 0, 0,\n",
       "       0, 0, 0, 0, 0, 0, 0, 0, 0, 1, 0, 0, 0, 0, 0, 0, 0, 1, 0, 0, 0, 0,\n",
       "       0, 0, 0, 0, 0, 1, 1, 0, 1, 1, 1, 0, 0, 0, 0, 0, 0, 1, 0, 0, 0, 0,\n",
       "       1, 0, 0, 0, 0, 0, 1, 0, 0, 0, 0, 1, 0, 0, 1, 0, 0, 0, 0, 0, 1, 0,\n",
       "       0, 0, 0, 0, 0, 0, 0, 1, 0, 0, 1, 1, 0, 0, 0, 0, 1, 1, 0, 0, 0, 0,\n",
       "       0, 0, 0, 0, 0, 0, 1, 0, 0, 0, 0, 0, 0, 0, 0, 0, 0, 0, 0, 0, 1, 0,\n",
       "       0, 0, 0, 0, 0, 0, 0, 0, 0, 0, 0, 0, 0, 0, 0, 0, 1, 0, 0, 1, 0, 0,\n",
       "       0, 0, 0, 0, 0, 0, 0, 0, 1, 0, 0, 0, 0, 0, 0, 0, 1, 0, 1, 0, 0, 0,\n",
       "       0, 0, 1, 0, 0, 0, 0, 1, 0, 0, 0, 1, 0, 0, 0, 0, 0, 1, 0, 0, 0, 0,\n",
       "       0, 1, 1, 1, 1, 0, 0, 0, 0, 0, 0, 0, 0, 0, 0, 1, 0, 0, 0, 0, 0, 1,\n",
       "       0, 0, 0, 0, 1, 0, 0, 0, 0, 0, 0, 0, 0, 0, 0, 1, 0, 0, 0, 0, 1, 0,\n",
       "       1, 0, 0, 0, 0, 0, 0, 0, 0, 0, 0, 0, 0, 0, 1])"
      ]
     },
     "metadata": {},
     "output_type": "display_data"
    }
   ],
   "source": [
    "# predictions by the model for the test data set\n",
    "predictions = model.predict(X_test)\n",
    "display(predictions)"
   ]
  },
  {
   "cell_type": "code",
   "execution_count": 19,
   "id": "fb315481",
   "metadata": {},
   "outputs": [
    {
     "data": {
      "text/html": [
       "<div>\n",
       "<style scoped>\n",
       "    .dataframe tbody tr th:only-of-type {\n",
       "        vertical-align: middle;\n",
       "    }\n",
       "\n",
       "    .dataframe tbody tr th {\n",
       "        vertical-align: top;\n",
       "    }\n",
       "\n",
       "    .dataframe thead th {\n",
       "        text-align: right;\n",
       "    }\n",
       "</style>\n",
       "<table border=\"1\" class=\"dataframe\">\n",
       "  <thead>\n",
       "    <tr style=\"text-align: right;\">\n",
       "      <th></th>\n",
       "      <th>actual</th>\n",
       "      <th>predicted</th>\n",
       "    </tr>\n",
       "  </thead>\n",
       "  <tbody>\n",
       "    <tr>\n",
       "      <th>0</th>\n",
       "      <td>0</td>\n",
       "      <td>0</td>\n",
       "    </tr>\n",
       "    <tr>\n",
       "      <th>1</th>\n",
       "      <td>0</td>\n",
       "      <td>0</td>\n",
       "    </tr>\n",
       "    <tr>\n",
       "      <th>2</th>\n",
       "      <td>0</td>\n",
       "      <td>0</td>\n",
       "    </tr>\n",
       "    <tr>\n",
       "      <th>3</th>\n",
       "      <td>0</td>\n",
       "      <td>0</td>\n",
       "    </tr>\n",
       "    <tr>\n",
       "      <th>4</th>\n",
       "      <td>0</td>\n",
       "      <td>0</td>\n",
       "    </tr>\n",
       "    <tr>\n",
       "      <th>...</th>\n",
       "      <td>...</td>\n",
       "      <td>...</td>\n",
       "    </tr>\n",
       "    <tr>\n",
       "      <th>296</th>\n",
       "      <td>0</td>\n",
       "      <td>0</td>\n",
       "    </tr>\n",
       "    <tr>\n",
       "      <th>297</th>\n",
       "      <td>0</td>\n",
       "      <td>0</td>\n",
       "    </tr>\n",
       "    <tr>\n",
       "      <th>298</th>\n",
       "      <td>0</td>\n",
       "      <td>0</td>\n",
       "    </tr>\n",
       "    <tr>\n",
       "      <th>299</th>\n",
       "      <td>0</td>\n",
       "      <td>0</td>\n",
       "    </tr>\n",
       "    <tr>\n",
       "      <th>300</th>\n",
       "      <td>1</td>\n",
       "      <td>1</td>\n",
       "    </tr>\n",
       "  </tbody>\n",
       "</table>\n",
       "<p>301 rows × 2 columns</p>\n",
       "</div>"
      ],
      "text/plain": [
       "     actual  predicted\n",
       "0         0          0\n",
       "1         0          0\n",
       "2         0          0\n",
       "3         0          0\n",
       "4         0          0\n",
       "..      ...        ...\n",
       "296       0          0\n",
       "297       0          0\n",
       "298       0          0\n",
       "299       0          0\n",
       "300       1          1\n",
       "\n",
       "[301 rows x 2 columns]"
      ]
     },
     "metadata": {},
     "output_type": "display_data"
    }
   ],
   "source": [
    "# compare the predicted values with actual values\n",
    "compare_df = pd.DataFrame({'actual': y_test, 'predicted': predictions})\n",
    "compare_df = compare_df.reset_index(drop = True)\n",
    "display(compare_df)"
   ]
  },
  {
   "cell_type": "code",
   "execution_count": 20,
   "id": "cfd1a72e",
   "metadata": {},
   "outputs": [
    {
     "data": {
      "text/html": [
       "<div>\n",
       "<style scoped>\n",
       "    .dataframe tbody tr th:only-of-type {\n",
       "        vertical-align: middle;\n",
       "    }\n",
       "\n",
       "    .dataframe tbody tr th {\n",
       "        vertical-align: top;\n",
       "    }\n",
       "\n",
       "    .dataframe thead th {\n",
       "        text-align: right;\n",
       "    }\n",
       "</style>\n",
       "<table border=\"1\" class=\"dataframe\">\n",
       "  <thead>\n",
       "    <tr style=\"text-align: right;\">\n",
       "      <th></th>\n",
       "      <th>0</th>\n",
       "      <th>1</th>\n",
       "    </tr>\n",
       "  </thead>\n",
       "  <tbody>\n",
       "    <tr>\n",
       "      <th>0</th>\n",
       "      <td>253</td>\n",
       "      <td>15</td>\n",
       "    </tr>\n",
       "    <tr>\n",
       "      <th>1</th>\n",
       "      <td>1</td>\n",
       "      <td>32</td>\n",
       "    </tr>\n",
       "  </tbody>\n",
       "</table>\n",
       "</div>"
      ],
      "text/plain": [
       "     0   1\n",
       "0  253  15\n",
       "1    1  32"
      ]
     },
     "metadata": {},
     "output_type": "display_data"
    },
    {
     "data": {
      "text/plain": [
       "Text(0.5, 1.0, 'Logistic Regression model Confusion matrix')"
      ]
     },
     "execution_count": 20,
     "metadata": {},
     "output_type": "execute_result"
    },
    {
     "data": {
      "image/png": "[encoded data removed]",
      "text/plain": [
       "<Figure size 600x400 with 2 Axes>"
      ]
     },
     "metadata": {
      "needs_background": "light"
     },
     "output_type": "display_data"
    }
   ],
   "source": [
    "display(pd.DataFrame(confusion_matrix(y_test, predictions)))\n",
    "\n",
    "conf_lr = confusion_matrix(y_test, predictions)\n",
    "\n",
    "conf_matrix(conf_lr)\n",
    "plt.title('Logistic Regression model Confusion matrix')"
   ]
  },
  {
   "cell_type": "markdown",
   "id": "5de0f0a1",
   "metadata": {},
   "source": [
    "While using the traditional model, we have taken the liberty of assuming a earth-like milieu, so the albedo and effective greenhouse temperature are close to that of earth's. While this might not be a better approach, we look forward to gathering more data on the albedo and status of gases in the planets to have more accuracy in our traditional model."
   ]
  },
  {
   "cell_type": "code",
   "execution_count": 21,
   "id": "45dd9b99",
   "metadata": {},
   "outputs": [],
   "source": [
    "def model_one_upper(L_star): #WITH GREENHOUSE EFFECT \n",
    "    s=5.67*(10**(-8)) #Stefan boltzmann constant \n",
    "    L=3.84*10**26*L_star #Luminosity or power radiated by the star\n",
    "    d=149.6*10**9 #Radius of the orbit in meters multiplied by radius of star in AU \n",
    "    b=L/(4*np.pi*(d**2)) #Solar constant or apparent brightness\n",
    "    b_eff=(1-0.28)*b #The effective apparent brightness that is absorbed \n",
    "    g_1=(b_eff/(4*s*(273-32)**4))**0.5 #water at 0 degrees celsius\n",
    "    g_2=(b_eff/(4*s*(373-32)**4))**0.5 #water at 100 degrees celsius (both these assume that the heat is b_eff)\n",
    "    return (np.round(g_1,2))\n",
    "\n",
    "def model_one_lower(L_star): #WITH GREENHOUSE EFFECT \n",
    "    s=5.67*(10**(-8)) #Stefan boltzmann constant \n",
    "    L=3.84*10**26*L_star #Luminosity or power radiated by the star\n",
    "    d=149.6*10**9 #Radius of the orbit in meters multiplied by radius of star in AU \n",
    "    b=L/(4*np.pi*(d**2)) #Solar constant or apparent brightness\n",
    "    b_eff=(1-0.28)*b #The effective apparent brightness that is absorbed \n",
    "    g_1=(b_eff/(4*s*(273-28)**4))**0.5 #water at 0 degrees celsius\n",
    "    g_2=(b_eff/(4*s*(373-28)**4))**0.5 #water at 100 degrees celsius (both these assume that the heat is b_eff)\n",
    "    return (np.round(g_2,2))"
   ]
  },
  {
   "cell_type": "code",
   "execution_count": 22,
   "id": "379acfd7",
   "metadata": {
    "scrolled": true
   },
   "outputs": [
    {
     "name": "stdout",
     "output_type": "stream",
     "text": [
      "[0, 0, 0, 0, 0, 0, 0, 0, 1, 1, 0, 0, 0, 0, 0, 0, 0, 0, 0, 0, 1, 1, 0, 0, 1, 0, 0, 0, 0, 0, 0, 0, 0, 0, 0, 0, 0, 0, 0, 0, 1, 0, 0, 0, 0, 0, 0, 0, 0, 0, 0, 0, 0, 0, 0, 0, 0, 0, 0, 0, 0, 0, 0, 0, 0, 0, 0, 0, 0, 0, 0, 0, 0, 0, 0, 0, 0, 1, 0, 0, 0, 0, 0, 0, 1, 0, 0, 1, 0, 1, 0, 0, 0, 1, 0, 0, 1, 1, 0, 1, 0, 0, 0, 0, 0, 0, 0, 0, 1, 1, 0, 0, 0, 1, 0, 1, 0, 0, 1, 0, 0, 0, 0, 0, 0, 0, 0, 1, 0, 0, 0, 0, 0, 0, 0, 0, 0, 0, 0, 0, 0, 0, 0, 0, 0, 0, 0, 0, 0, 0, 0, 0, 0, 0, 0, 0, 0, 0, 0, 0, 0, 0, 0, 0, 0, 0, 0, 0, 0, 0, 0, 0, 0, 0, 0, 0, 0, 0, 0, 0, 0, 0, 0, 0, 0, 0, 0, 0, 0, 0, 0, 0, 0, 0, 0, 0, 0, 0, 0, 0, 0, 0, 0, 0, 0, 0, 0, 0, 0, 0, 0, 0, 0, 0, 0, 0, 0, 0, 0, 0, 0, 0, 0, 0, 0, 0, 0, 0, 0, 0, 0, 0, 0, 0, 0, 0, 0, 0, 0, 0, 0, 0, 0, 0, 0, 0, 0, 0, 0, 0, 0, 1, 0, 0, 0, 0, 0, 0, 1, 0, 0, 0, 0, 0, 0, 0, 0, 0, 0, 0, 0, 0, 0, 0, 0, 1, 0, 0, 0, 0, 0, 0, 0, 1, 0, 0, 0, 0, 1, 0, 0, 0, 0, 0, 1, 0, 0, 0, 0, 0, 1, 0, 0, 0, 0, 0, 1, 0, 0, 1, 1, 0, 0, 0, 0, 0, 1, 0, 1, 0, 1, 0, 0, 0, 0, 0, 0, 0, 0, 1, 0, 0, 1, 0, 0, 0, 1, 1, 1, 0, 1, 0, 0, 0, 1, 0, 0, 1, 0, 0, 0, 0, 0, 0, 1, 0, 0, 0, 0, 0, 0, 0, 0, 0, 0, 0, 1, 0, 0, 0, 0, 0, 0, 0, 0, 0, 0, 0, 0, 0, 0, 0, 0, 0, 0, 0, 0, 0, 0, 0, 0, 0, 0, 0, 0, 0, 0, 0, 0, 0, 0, 0, 0, 0, 0, 0, 0, 0, 0, 0, 0, 0, 0, 0, 0, 1, 0, 0, 1, 0, 0, 0, 0, 0, 0, 0, 0, 0, 0, 0, 0, 0, 0, 0, 0, 0, 0, 0, 1, 0, 0, 0, 0, 0, 0, 0, 0, 0, 0, 0, 1, 0, 0, 0, 0, 0, 0, 0, 0, 1, 0, 0, 0, 0, 0, 0, 0, 0, 0, 1, 0, 0, 0, 0, 0, 0, 0, 0, 1, 0, 0, 0, 0, 0, 0, 0, 0, 0, 0, 0, 1, 1, 0, 0, 0, 0, 0, 0, 1, 0, 0, 0, 0, 1, 0, 0, 0, 1, 0, 0, 1, 0, 0, 1, 0, 1, 0, 0, 1, 0, 0, 0, 0, 1, 0, 0, 0, 0, 0, 0, 0, 0, 1, 0, 0, 0, 0, 0, 0, 1, 0, 0, 0, 0, 0, 0, 0, 0, 0, 0, 0, 0, 0, 0, 1, 0, 0, 0, 0, 0, 0, 0, 0, 0, 0, 0, 1, 0, 0, 0, 0, 1, 0, 0, 0, 0, 0, 0, 0, 0, 0, 0, 0, 0, 1, 0, 0, 0, 0, 0, 0, 0, 0, 0, 0, 0, 0, 1, 0, 0, 0, 1, 1, 0, 1, 0, 0, 0, 0, 1, 0, 0, 0, 0, 0, 0, 0, 1, 0, 1, 0, 0, 0, 0, 0, 0, 0, 1, 0, 1, 0, 0, 1, 0, 1, 1, 0, 0, 1, 0, 0, 0, 0, 0, 0, 0, 0, 0, 0, 0, 0, 0, 0, 0, 0, 0, 0, 0, 0, 0, 0, 0, 0, 0, 0, 0, 0, 0, 0, 0, 0, 0, 0, 0, 0, 0, 0, 0, 0, 0, 0, 0, 0, 0, 0, 0, 0, 0, 1, 0, 0, 0, 0, 0, 0, 0, 0, 0, 0, 0, 0, 0, 0, 0, 0, 0, 0, 0, 0, 0, 0, 0, 0, 0, 0, 0, 0, 0, 0, 0, 0, 0, 0, 0, 0, 0, 0, 0, 0, 0, 0, 0, 0, 0, 0, 0, 0, 0, 1, 0, 0, 0, 0, 1, 1, 0, 0, 0, 0, 0, 0, 0, 0, 1, 0, 1, 0, 0, 0, 1, 0, 0, 0, 0, 0, 0, 0, 0, 0, 0, 0, 0, 1, 0, 0, 0, 0, 1, 0, 0, 0, 1, 0, 0, 0, 0, 0, 0, 0, 0, 0, 0, 0, 0, 0, 0, 0, 0, 0, 0, 0, 0, 0, 0, 0, 0, 0, 0, 0, 0, 0, 0, 0, 0, 0, 0, 0, 0, 0, 0, 0, 0, 0, 0, 0, 0, 0, 0, 0, 0, 0, 0, 0, 0, 0, 0, 0, 0, 0, 1, 0, 0, 0, 0, 0, 1, 1, 1, 1, 0, 0, 0, 0, 0, 0, 0, 1, 0, 0, 0, 0, 0, 0, 0, 0, 0, 0, 0, 0, 0, 0, 0, 0, 0, 0, 0, 0, 0, 0, 0, 0, 0, 0, 0, 0, 0, 0, 0, 0, 0, 0, 0, 0, 0, 0, 0, 0, 0, 0, 0, 0, 0, 0, 0, 0, 0, 0, 0, 0, 0, 0, 0, 0, 0, 0, 0, 0, 0, 0, 0, 0, 0, 0, 0, 0, 0, 0, 0, 0, 0, 0, 0, 0, 0, 0, 0, 0, 0, 0, 0, 0, 0, 0, 0, 0, 0, 0, 0, 0, 0, 0, 0, 0, 0, 0, 0, 0, 0, 0, 0, 0, 0, 0, 0, 1, 0, 0, 1, 0, 0, 0, 0, 0, 0, 0, 0, 0, 0, 0, 0, 0, 0, 1, 0, 0, 1, 0, 0, 0, 0, 0, 0, 0, 1, 0, 0, 0, 0, 1, 1, 0]\n"
     ]
    }
   ],
   "source": [
    "# check the habitability status and create an array\n",
    "L_star=(np.array(data.S_LUMINOSITY))\n",
    "d=(np.array(data.P_DISTANCE))\n",
    "lb=np.array(model_one_lower(L_star))\n",
    "ub=np.array(model_one_upper(L_star))\n",
    "hab=[]\n",
    "for i in range(0,len(d)):\n",
    "    if ub[i]>=d[i]>=lb[i]:\n",
    "        hab.append(1)\n",
    "    else:\n",
    "        hab.append(0)\n",
    "print(hab)"
   ]
  },
  {
   "cell_type": "code",
   "execution_count": 23,
   "id": "7891d9b0",
   "metadata": {},
   "outputs": [
    {
     "data": {
      "text/plain": [
       "Text(0.5, 1.0, 'Traditional Model Confusion matrix')"
      ]
     },
     "execution_count": 23,
     "metadata": {},
     "output_type": "execute_result"
    },
    {
     "data": {
      "image/png": "[encoded data removed]",
      "text/plain": [
       "<Figure size 600x400 with 2 Axes>"
      ]
     },
     "metadata": {
      "needs_background": "light"
     },
     "output_type": "display_data"
    }
   ],
   "source": [
    "# the confusion matrix\n",
    "conf_trad = confusion_matrix(target,hab)\n",
    "conf_matrix(conf_trad)\n",
    "plt.title('Traditional Model Confusion matrix')"
   ]
  },
  {
   "cell_type": "code",
   "execution_count": 24,
   "id": "be0d7838",
   "metadata": {},
   "outputs": [],
   "source": [
    "def habitable_zone_GH_down(L_star,albedo,w): #WITH GREENHOUSE EFFECT \n",
    "    s=5.67*(10**(-8)) #Stefan boltzmann constant \n",
    "    L=3.84*10**26*L_star #Luminosity or power radiated by the star\n",
    "    d=149.6*10**9 #Radius of the orbit in meters multiplied by radius of star in AU \n",
    "    b=L/(4*np.pi*(d**2)) #Solar constant or apparent brightness\n",
    "    b_eff=(1-albedo)*b #The effective apparent brightness that is absorbed \n",
    "    g_1=(b_eff/(4*s*(273-w)**4))**0.5 #water at 0 degrees celsius\n",
    "    g_2=(b_eff/(4*s*(373-w)**4))**0.5 #water at 100 degrees celsius (both these assume that the heat is b_eff)\n",
    "    return g_2 #gives CHZ in astronomical units upper bound g_2) #gives CHZ lower bound\n",
    "\n",
    "def habitable_zone_GH_up(L_star,albedo,w): #WITH GREENHOUSE EFFECT \n",
    "    s=5.67*(10**(-8)) #Stefan boltzmann constant \n",
    "    L=3.84*10**26*L_star #Luminosity or power radiated by the star\n",
    "    d=149.6*10**9 #Radius of the orbit in meters multiplied by radius of star in AU \n",
    "    b=L/(4*np.pi*(d**2)) #Solar constant or apparent brightness\n",
    "    b_eff=(1-albedo)*b #The effective apparent brightness that is absorbed \n",
    "    g_1=(b_eff/(4*s*(273-w)**4))**0.5 #water at 0 degrees celsius\n",
    "    g_2=(b_eff/(4*s*(373-w)**4))**0.5 #water at 100 degrees celsius (both these assume that the heat is b_eff)\n",
    "    return g_1 #gives CHZ in astronomical units upper bound g_2) #gives CHZ lower bound\n",
    "\n",
    "A=(np.array(data.S_LUMINOSITY))\n",
    "UB=[]\n",
    "LB=[]\n",
    "for i in range(0,len(A)):\n",
    "        b=(habitable_zone_GH_down(A[i],0.3,0))\n",
    "        c=(habitable_zone_GH_down(A[i],0,32))\n",
    "        q=(habitable_zone_GH_down(A[i],0.3,100))\n",
    "        e=(habitable_zone_GH_down(A[i],0.3,32))\n",
    "        O=np.array([b,c,q,e])\n",
    "        B=np.array(np.round((min(O)),2))\n",
    "        r=(habitable_zone_GH_up(A[i],0.3,0))\n",
    "        s=(habitable_zone_GH_up(A[i],0,32))\n",
    "        t=(habitable_zone_GH_up(A[i],0.3,100))\n",
    "        u=(habitable_zone_GH_up(A[i],0.3,32))\n",
    "        v=np.array([r,s,t,u])\n",
    "        D=np.round((max(v)),2)\n",
    "        I=([B,D])\n",
    "        I_min=(min(I))\n",
    "        LB.append(I_min)\n",
    "        I_max=(max(I))\n",
    "        UB.append(I_max)"
   ]
  },
  {
   "cell_type": "code",
   "execution_count": 25,
   "id": "6af4f25c",
   "metadata": {},
   "outputs": [
    {
     "name": "stdout",
     "output_type": "stream",
     "text": [
      "[0, 0, 0, 0, 1, 0, 0, 0, 1, 1, 0, 0, 1, 0, 0, 0, 0, 0, 0, 0, 1, 1, 0, 0, 1, 1, 0, 0, 0, 0, 0, 0, 1, 0, 0, 0, 0, 0, 0, 0, 1, 0, 1, 0, 0, 0, 0, 0, 0, 0, 0, 0, 0, 0, 0, 0, 0, 0, 0, 0, 0, 0, 0, 0, 0, 0, 0, 0, 0, 0, 0, 0, 0, 0, 0, 0, 0, 1, 1, 0, 0, 0, 0, 0, 1, 0, 0, 1, 0, 1, 0, 0, 0, 1, 0, 1, 1, 1, 0, 1, 0, 0, 1, 1, 0, 0, 0, 0, 1, 1, 0, 0, 0, 1, 0, 1, 0, 0, 1, 1, 0, 0, 0, 0, 0, 0, 0, 1, 0, 0, 0, 0, 0, 0, 0, 0, 0, 0, 0, 0, 0, 0, 0, 0, 0, 0, 0, 0, 0, 0, 0, 0, 0, 0, 0, 0, 0, 0, 0, 0, 0, 0, 0, 0, 0, 0, 0, 0, 0, 0, 0, 0, 0, 0, 0, 0, 0, 0, 0, 0, 0, 0, 0, 0, 0, 0, 0, 0, 0, 0, 0, 0, 0, 0, 0, 0, 0, 0, 0, 0, 0, 0, 0, 0, 0, 0, 0, 0, 0, 0, 0, 0, 0, 0, 0, 0, 0, 0, 0, 0, 0, 0, 0, 0, 1, 0, 0, 0, 0, 1, 0, 0, 0, 0, 0, 0, 0, 0, 0, 1, 1, 0, 0, 1, 0, 0, 1, 0, 1, 0, 0, 1, 0, 0, 0, 0, 0, 0, 1, 1, 0, 0, 0, 0, 0, 1, 0, 1, 1, 1, 0, 0, 0, 0, 0, 1, 0, 0, 1, 0, 0, 0, 1, 1, 0, 1, 1, 0, 1, 0, 1, 0, 1, 0, 1, 0, 1, 0, 1, 0, 1, 0, 0, 0, 0, 1, 1, 0, 0, 1, 1, 0, 0, 0, 1, 0, 1, 1, 1, 0, 1, 0, 0, 0, 0, 0, 0, 0, 0, 1, 0, 1, 1, 0, 1, 0, 1, 1, 1, 0, 1, 1, 0, 0, 1, 1, 1, 1, 1, 0, 1, 0, 0, 1, 1, 0, 0, 1, 1, 0, 0, 1, 0, 0, 1, 0, 1, 0, 0, 1, 0, 1, 0, 0, 1, 0, 0, 0, 0, 1, 0, 1, 0, 0, 0, 0, 0, 0, 1, 1, 0, 0, 1, 1, 0, 0, 1, 0, 0, 0, 0, 1, 0, 1, 0, 1, 0, 0, 1, 0, 1, 0, 0, 0, 0, 1, 0, 1, 1, 0, 0, 0, 0, 1, 0, 0, 0, 0, 1, 1, 0, 0, 0, 0, 0, 1, 1, 0, 1, 0, 0, 0, 1, 0, 1, 0, 0, 0, 0, 0, 1, 0, 1, 0, 0, 0, 0, 0, 0, 1, 0, 1, 1, 0, 1, 1, 0, 0, 1, 1, 0, 0, 0, 0, 1, 0, 0, 0, 1, 1, 0, 0, 0, 0, 0, 0, 0, 0, 1, 0, 1, 1, 0, 0, 0, 0, 0, 0, 1, 1, 1, 0, 0, 1, 0, 0, 0, 1, 0, 1, 1, 0, 0, 1, 0, 1, 0, 1, 1, 0, 0, 1, 0, 1, 0, 0, 0, 0, 1, 0, 0, 0, 1, 0, 0, 0, 0, 0, 1, 1, 0, 0, 1, 1, 0, 0, 0, 1, 0, 0, 1, 0, 0, 0, 1, 0, 0, 1, 0, 0, 1, 1, 0, 0, 0, 0, 1, 1, 0, 0, 0, 1, 0, 0, 0, 0, 0, 0, 0, 0, 0, 0, 0, 1, 1, 1, 0, 0, 1, 0, 0, 0, 0, 0, 0, 0, 1, 1, 0, 0, 0, 1, 1, 0, 1, 0, 0, 0, 0, 1, 0, 0, 0, 1, 0, 1, 0, 1, 0, 1, 1, 1, 0, 0, 0, 0, 0, 1, 0, 1, 1, 1, 1, 0, 1, 1, 0, 0, 1, 0, 0, 0, 0, 0, 0, 0, 0, 0, 0, 0, 0, 0, 0, 0, 0, 0, 0, 0, 0, 0, 0, 0, 0, 0, 0, 0, 0, 0, 0, 0, 0, 0, 0, 0, 0, 0, 0, 0, 0, 0, 0, 0, 0, 1, 0, 1, 0, 0, 1, 0, 0, 0, 0, 0, 0, 0, 0, 0, 0, 0, 0, 0, 0, 0, 0, 0, 0, 0, 0, 1, 0, 0, 0, 0, 1, 1, 1, 0, 0, 0, 0, 0, 0, 0, 0, 0, 0, 0, 0, 0, 0, 0, 0, 0, 1, 0, 0, 0, 1, 0, 0, 0, 0, 1, 1, 0, 0, 0, 0, 0, 0, 0, 0, 1, 0, 1, 0, 0, 0, 1, 0, 0, 0, 0, 0, 0, 0, 0, 0, 0, 0, 0, 1, 0, 0, 0, 1, 1, 0, 0, 0, 1, 0, 0, 0, 0, 0, 0, 0, 0, 0, 0, 0, 0, 0, 0, 0, 0, 0, 0, 0, 0, 0, 1, 0, 1, 0, 0, 0, 0, 0, 0, 0, 0, 0, 0, 0, 0, 0, 0, 0, 0, 0, 0, 0, 0, 0, 0, 0, 1, 0, 0, 0, 0, 0, 0, 0, 0, 0, 1, 0, 0, 0, 0, 0, 1, 1, 1, 1, 1, 1, 0, 0, 0, 0, 0, 1, 1, 0, 0, 0, 0, 0, 0, 0, 0, 0, 0, 0, 0, 0, 0, 0, 0, 0, 0, 0, 0, 0, 0, 0, 0, 0, 0, 0, 0, 0, 0, 0, 0, 0, 0, 0, 0, 0, 0, 0, 0, 0, 0, 0, 0, 0, 0, 0, 0, 0, 0, 0, 0, 0, 0, 0, 0, 0, 0, 0, 0, 0, 0, 0, 0, 0, 0, 0, 0, 0, 1, 0, 0, 0, 0, 1, 0, 0, 0, 0, 0, 0, 0, 0, 0, 0, 0, 0, 0, 0, 0, 0, 0, 0, 0, 0, 0, 0, 0, 0, 0, 0, 0, 0, 0, 0, 0, 1, 0, 0, 1, 0, 0, 0, 1, 1, 0, 0, 0, 0, 0, 0, 0, 0, 0, 1, 0, 0, 1, 0, 0, 0, 0, 0, 0, 0, 1, 1, 0, 0, 0, 1, 1, 1]\n"
     ]
    }
   ],
   "source": [
    "L_star=(np.array(data.S_LUMINOSITY))\n",
    "d=(np.array(data.P_DISTANCE))\n",
    "hf=[]\n",
    "for i in range(0,len(d)):\n",
    "    if UB[i]>=d[i]>=LB[i]:\n",
    "        hf.append(1)\n",
    "    else:\n",
    "        hf.append(0)\n",
    "print(hf)"
   ]
  },
  {
   "cell_type": "code",
   "execution_count": 26,
   "id": "2d3d50fa",
   "metadata": {},
   "outputs": [
    {
     "data": {
      "text/plain": [
       "Text(0.5, 1.0, 'Traditional Model 2 Confusion matrix')"
      ]
     },
     "execution_count": 26,
     "metadata": {},
     "output_type": "execute_result"
    },
    {
     "data": {
      "image/png": "[encoded data removed]",
      "text/plain": [
       "<Figure size 600x400 with 2 Axes>"
      ]
     },
     "metadata": {
      "needs_background": "light"
     },
     "output_type": "display_data"
    }
   ],
   "source": [
    "conf_trad = confusion_matrix(target,hf)\n",
    "conf_matrix(conf_trad)\n",
    "plt.title('Traditional Model 2 Confusion matrix')"
   ]
  },
  {
   "cell_type": "markdown",
   "id": "dc57973e",
   "metadata": {},
   "source": [
    "### Accuracy of each model"
   ]
  },
  {
   "cell_type": "code",
   "execution_count": 27,
   "id": "8b4eb5c6",
   "metadata": {},
   "outputs": [],
   "source": [
    "# create function to find accuracy\n",
    "def accuracy(tn,fp,fn,tp):\n",
    "    acc = (tp+tn)/(tp+fp+tn+fn)\n",
    "    return acc"
   ]
  },
  {
   "cell_type": "code",
   "execution_count": 28,
   "id": "5a15e5ac",
   "metadata": {},
   "outputs": [
    {
     "name": "stdout",
     "output_type": "stream",
     "text": [
      "0.946843853820598\n"
     ]
    }
   ],
   "source": [
    "# Linear Regression Model\n",
    "print(accuracy(253,15,1,32))"
   ]
  },
  {
   "cell_type": "code",
   "execution_count": 29,
   "id": "ce27d560",
   "metadata": {},
   "outputs": [
    {
     "name": "stdout",
     "output_type": "stream",
     "text": [
      "0.8601398601398601\n"
     ]
    }
   ],
   "source": [
    "# Traditional Model 1\n",
    "print(accuracy(825,66,74,36))"
   ]
  },
  {
   "cell_type": "code",
   "execution_count": 30,
   "id": "72a11b8c",
   "metadata": {},
   "outputs": [
    {
     "name": "stdout",
     "output_type": "stream",
     "text": [
      "0.8861138861138861\n"
     ]
    }
   ],
   "source": [
    "# Traditional Model 2\n",
    "print(accuracy(777,114,0,110))"
   ]
  },
  {
   "cell_type": "code",
   "execution_count": 57,
   "id": "2b8fef13",
   "metadata": {},
   "outputs": [
    {
     "data": {
      "text/plain": [
       "<AxesSubplot:xlabel='P_TEMP_EQUIL', ylabel='S_LUMINOSITY'>"
      ]
     },
     "execution_count": 57,
     "metadata": {},
     "output_type": "execute_result"
    },
    {
     "data": {
      "image/png": "[encoded data removed]",
      "text/plain": [
       "<Figure size 432x288 with 1 Axes>"
      ]
     },
     "metadata": {
      "needs_background": "light"
     },
     "output_type": "display_data"
    }
   ],
   "source": [
    "sns.scatterplot(data=data, x='P_TEMP_EQUIL', y=\"S_LUMINOSITY\",hue='P_HABZONE_OPT')"
   ]
  },
  {
   "cell_type": "code",
   "execution_count": 51,
   "id": "f56bff29",
   "metadata": {},
   "outputs": [
    {
     "data": {
      "text/plain": [
       "<AxesSubplot:xlabel='P_ESI', ylabel='S_MASS'>"
      ]
     },
     "execution_count": 51,
     "metadata": {},
     "output_type": "execute_result"
    },
    {
     "data": {
      "image/png": "[encoded data removed]",
      "text/plain": [
       "<Figure size 432x288 with 1 Axes>"
      ]
     },
     "metadata": {
      "needs_background": "light"
     },
     "output_type": "display_data"
    }
   ],
   "source": [
    "sns.scatterplot(data=data, y='S_MASS', x=\"P_ESI\",hue='P_HABZONE_OPT')"
   ]
  },
  {
   "cell_type": "markdown",
   "id": "03350b09",
   "metadata": {},
   "source": [
    "### Conclusion\n",
    "\n",
    "Comparing the accuracy of the models, the machine learning model is the most accurate. The traditional model 2 is accurate than the traditional model 1."
   ]
  },
  {
   "cell_type": "markdown",
   "id": "af209553",
   "metadata": {},
   "source": [
    "### TODO\n",
    "Use the same number of data to check the accuracy."
   ]
  }
 ],
 "metadata": {
  "kernelspec": {
   "display_name": "Python 3 (ipykernel)",
   "language": "python",
   "name": "python3"
  },
  "language_info": {
   "codemirror_mode": {
    "name": "ipython",
    "version": 3
   },
   "file_extension": ".py",
   "mimetype": "text/x-python",
   "name": "python",
   "nbconvert_exporter": "python",
   "pygments_lexer": "ipython3",
   "version": "3.8.12"
  }
 },
 "nbformat": 4,
 "nbformat_minor": 5
}
